{
 "cells": [
  {
   "cell_type": "markdown",
   "id": "c251d5d7-16c5-453e-97f6-ccf94e969c13",
   "metadata": {},
   "source": [
    "# Introduction to Python - A part of the Data Science Workshop Series\n",
    "\n",
    "## About Python, R and RStudio Briefly\n",
    "\n",
    "`Python` is a popular programming language commonly used for statistical analysis,\n",
    "data visualization, and machine learning. The many ways to interact with\n",
    "`Python` are called Integrated Development Environments (IDE's). IDE choice depends on \n",
    "the context, the nature of the project, and/or personal preference, among other \n",
    "factors. Here are a few IDE's for interacting with `Python`.\n",
    "\n",
    "- IDLE (Python's Integrated Development and Learning)\n",
    "- PyCharm\n",
    "- Jupyter Notebook\n",
    "- Visual Studio Code\n",
    "- Google Colab\n",
    "- RStudio\n",
    "\n",
    "Additionally, `Python` has broad applications beyond data analysis and can be used\n",
    "for web development, automation, and more. Ultimately, the choice between `R` and \n",
    "`Python` will depend on your specific needs and preferences. If you decide to use \n",
    "`RStudio` as your IDE of choice, RStudio, R, and Python all need to be installed on\n",
    "your computer. Otherwise the any code in a `Python` *chunk* will work in any `Python` IDE.\n",
    "Both `R` and `RStudio` are cross-platform, so that everyone's versions look and \n",
    "operate the same regardless of their operating system! \n",
    "\n",
    "As getting `Python` to run in `RStudio` is not always seemless, we will be working in a \n",
    "Jupyter Notebook today. We encourage you to follow the instructions from Data Carpentries\n",
    "to install Anaconda and `plotnine`, which you can find here:\n",
    "https://datacarpentry.org/python-ecology-lesson/index.html#installing-python-using-anaconda, \n",
    "or follow the instructions below.\n",
    "You will need to have these installed before attending the workshop.\n",
    "\n",
    "If you did not complete that or do not have a computer available, you can also borrow\n",
    "a laptop from the MSU library (or maybe from a good friend) for the workshop. If you\n",
    "borrow a laptop from the MSU library, you will need to use a cloud solution to open\n",
    "the Juypter Notebook. There are several options out there including:\n",
    "- Anaconda Cloud\n",
    "- Google Colab\n",
    "- Many others found by a quick internet search.\n",
    "\n",
    "### Prepare for the Workshop Using Anaconda Navigator\n",
    "\n",
    "Please take these steps if you haven't already done so:\n",
    "\n",
    "1. Download and install `Anaconda Navigator` (https://www.anaconda.com/anaconda-navigator)\n",
    "2. Download the ZIP file provided for the workshop\n",
    "3. ***Unzip the file and save the contents locally***\n",
    "4. Install `plotnine` using `Anaconda Navigator` and the package navigator.\n",
    "   \n",
    "   a.  Open `Anaconda Navigator`,  \n",
    "   b.  On the left, click on \"Environments\",  \n",
    "   c.  Change the drop down menu from \"Installed\" to \"All\",  \n",
    "   d.  In the \"Search Packages\" box, type `plotnine`,  \n",
    "   e.  Check the box in front of `plotnine`,  \n",
    "   f.  Click \"Apply\" at the bottom of the window,  \n",
    "   g.  Follow the dialogs to install the package.  \n",
    "   \n",
    "6. Go back \"Home\" and launch \"Jupyter Lab\".\n",
    "7. Open the \"IntroPython.ipynb\" file from the zipped folder.\n",
    "8. You should see exactly what is here in this PDF or Juypter Notebook."
   ]
  },
  {
   "cell_type": "markdown",
   "id": "a86abde1-bdaf-47a1-b560-6927b9024284",
   "metadata": {},
   "source": [
    "### Working in JupyterLab\n",
    "\n",
    "The document we provided for you is an iPython Notebook (.ipynb) document. It allows you \n",
    "to work in a reproducible fashion, with both code (placed in what are called code \n",
    "chunks) and descriptions of results in the same file. The boxes and grey sections\n",
    "indicate a chunk.\n",
    "\n",
    "Jupyter Notebooks have three different kinds of chunks, Markdown (like this chunk), \n",
    "Code (for executable code), and Raw (for visualization of code that will not be executed). \n",
    "The Notebook will either be in edit mode or in compiled mode.\n",
    "\n",
    "For instance if I want to show you what a code chunk will look like from a command prompt\n",
    "I would use a Raw chunk."
   ]
  },
  {
   "cell_type": "raw",
   "id": "cdad1537-1821-40b0-ba94-70d0ec3cd8b0",
   "metadata": {},
   "source": [
    ">>> 2 + 2\n",
    "4\n",
    ">>>"
   ]
  },
  {
   "cell_type": "markdown",
   "id": "db8c0e76-6f6e-4b24-b474-6684aa4785e1",
   "metadata": {},
   "source": [
    "If I want to include a code chunk that we can excute directly from this iPython Notebook, then\n",
    "I will use a code chunk. Here is that same calculation (see below). \n",
    "\n",
    "To execute this code chunk you can press SHIFT + ENTER or SHIFT + RETURN, or click the \"Play\"\n",
    "button at the top of the window."
   ]
  },
  {
   "cell_type": "code",
   "execution_count": null,
   "id": "935b4547-2bff-4412-8af7-fbc2f730ac30",
   "metadata": {},
   "outputs": [],
   "source": [
    "2 + 2"
   ]
  },
  {
   "cell_type": "markdown",
   "id": "6622a014-3de6-466c-b413-d7de2dddbcf2",
   "metadata": {},
   "source": [
    "Type all of your code in these code chunks and other documentation and \n",
    "interpretation of results in Markdown chunks (like we are doing here). \n",
    "You should start today with saving this .ipynb file into a folder that also contains \n",
    "any data and other figures you might want to read into this document. When you do that, \n",
    "JupyterLab will know where to look to read in the data so you do not need to know the \n",
    "path for its physical location on your computer. Once we are done with our local work, we \n",
    "can save the notebook and export as a PDF (File > Save and Export Notebook as > PDF). \n",
    "\n",
    "A few last things, the default chunk type is \"Code\", and you can preview your notebook\n",
    "at any time by clicking on \"Notebook\" in the upper right corner."
   ]
  },
  {
   "cell_type": "markdown",
   "id": "b8529f99-799f-4812-bd4d-3d58fe44bf8a",
   "metadata": {},
   "source": [
    "### Calculator\n",
    "\n",
    "For each of the following commands, confirm that the response is the correct answer. "
   ]
  },
  {
   "cell_type": "code",
   "execution_count": null,
   "id": "d1b7bcf0-5a71-4c42-bf6e-5cbd02645f16",
   "metadata": {},
   "outputs": [],
   "source": [
    "1 + 2"
   ]
  },
  {
   "cell_type": "code",
   "execution_count": null,
   "id": "02a192ec-80a0-4c25-b55b-07966ba2bfb2",
   "metadata": {},
   "outputs": [],
   "source": [
    "16 * 9"
   ]
  },
  {
   "cell_type": "code",
   "execution_count": null,
   "id": "0ad70243-c0c3-4f58-ae77-20023bd874fd",
   "metadata": {},
   "outputs": [],
   "source": [
    "20 / 5"
   ]
  },
  {
   "cell_type": "code",
   "execution_count": null,
   "id": "4f3626c2-83ac-48cd-a819-5233608a0e54",
   "metadata": {},
   "outputs": [],
   "source": [
    "18.5 - 7.21"
   ]
  },
  {
   "cell_type": "code",
   "execution_count": null,
   "id": "5a475bb0-7f26-4c1b-8346-1d748601590f",
   "metadata": {},
   "outputs": [],
   "source": [
    "2 ^ 2"
   ]
  },
  {
   "cell_type": "markdown",
   "id": "f8df15e1-1aa3-4d1f-9fab-322588a0d6d2",
   "metadata": {},
   "source": [
    "Notice how `2^2`$\\neq$ (is not equal to) `4`! In `Python` the exponent operator \n",
    "is not the expected _caret_ `^` symbol, but rather exponentiation is defined by \n",
    "_double star_ `**`:"
   ]
  },
  {
   "cell_type": "code",
   "execution_count": null,
   "id": "eb01cc32-44a1-4367-a65d-bebcecbcf0e0",
   "metadata": {},
   "outputs": [],
   "source": [
    "2 ** 2"
   ]
  },
  {
   "cell_type": "markdown",
   "id": "3e12187f-06a2-4ef2-bdb1-2c35306086ca",
   "metadata": {},
   "source": [
    "Also notice algebraic operations are not space-sensitive, this is helpful when trying\n",
    "to format, and read code in `Python`.\n",
    "\n",
    "We had all of those calculations in separate code chunks. If we want to have multiple\n",
    "commands in one chunk and display the results for all of the commands then we need to\n",
    "run the following commands:"
   ]
  },
  {
   "cell_type": "code",
   "execution_count": null,
   "id": "3fb18c73-08ae-49f6-9e85-094da705f97b",
   "metadata": {},
   "outputs": [],
   "source": [
    "from IPython.core.interactiveshell import InteractiveShell\n",
    "InteractiveShell.ast_node_interactivity = \"all\""
   ]
  },
  {
   "cell_type": "code",
   "execution_count": null,
   "id": "7f9821b4-8242-4ef2-8c2e-4e59cd50033c",
   "metadata": {},
   "outputs": [],
   "source": [
    "1 + 2 \n",
    "16 * 9\n",
    "20 / 5\n",
    "18.5 - 7.21\n",
    "2 ** 2"
   ]
  },
  {
   "cell_type": "markdown",
   "id": "49217b35-70e5-4e20-a694-27072ba0ac9d",
   "metadata": {},
   "source": [
    "### Packages\n",
    "\n",
    "Like `R`, `Python` has a wide range of libraries\n",
    "and packages (often referred as `Modules`) that make it a powerful tool for data \n",
    "analysis. You can import modules into a Python environment or chunk using the\n",
    "`import` function. You can also specify particular components to import if you do not\n",
    "want or need to import the whole module.\n",
    "\n",
    "In the code above, from the `IPython.core.interactiveshell` module, we just imported\n",
    "`InteractiveShell` Then we were able to set the `InteractiveShell.ast_node_interactivity`\n",
    "parameter to \"all\".\n",
    "\n",
    "Another package that we will need for data science is `pandas`. You might get tired of\n",
    "writing `pandas` out all of the time. Fortunately, `Python` lets you provide packages with\n",
    "aliases!"
   ]
  },
  {
   "cell_type": "code",
   "execution_count": null,
   "id": "70007d32-ed9a-418b-91a3-54c49f4b974f",
   "metadata": {},
   "outputs": [],
   "source": [
    "import pandas as pd"
   ]
  },
  {
   "cell_type": "markdown",
   "id": "785e20ad-5bdc-431c-9931-b8f4dcc249a3",
   "metadata": {},
   "source": [
    "This will import the pandas package and give it an alias `pd`, which you can use\n",
    "to access its functions and objects. Aliases are useful because they are fewer\n",
    "characters to type as you have to use either the package name or alias anytime\n",
    "you call a function. ***So choose your alias wisely!***\n",
    "\n",
    "Now that we know how to import and load `Python` modules, let us work with some \n",
    "examples of commonly used modules, such as the `math` module. The math module is\n",
    "a built-in module in `Python` that provides various mathematical functions and \n",
    "constants such as the square root, trigonometric, logarithmic, and exponential \n",
    "functions. The general syntax for `Python` when calling a function from a specific\n",
    "module is `module.attribute`.\n",
    "\n",
    "Try the following code:"
   ]
  },
  {
   "cell_type": "code",
   "execution_count": null,
   "id": "a93c2920-dd01-455a-af1e-4ffee6e5510e",
   "metadata": {},
   "outputs": [],
   "source": [
    "import math\n",
    "math.sqrt(2)\n",
    "\n",
    "math.cos(math.pi)\n",
    "\n",
    "math.factorial(4)\n",
    "\n",
    "math.cos(math.pi/4) ** 2 + math.sin(math.pi/4) ** 2"
   ]
  },
  {
   "cell_type": "markdown",
   "id": "d0603b1c-73be-487b-8f8f-eaabf93ffd7d",
   "metadata": {},
   "source": [
    "## Creating Objects \n",
    "\n",
    "These operations, however, are not very interesting. To do more useful things in\n",
    "`Python`, we need to assign values to an object. To create an object, we provide the\n",
    "object's name, followed by an equal sign (`=`), and finally the value of \n",
    "the object. This would look something like this:\n"
   ]
  },
  {
   "cell_type": "code",
   "execution_count": null,
   "id": "8f9fa6aa-f3d4-4e88-98e5-1e344dadc7cb",
   "metadata": {},
   "outputs": [],
   "source": [
    "x = 6"
   ]
  },
  {
   "cell_type": "code",
   "execution_count": null,
   "id": "4a66ecd4-88dd-4630-845b-1b7bcfeaeb6f",
   "metadata": {},
   "outputs": [],
   "source": [
    "x"
   ]
  },
  {
   "cell_type": "markdown",
   "id": "5d7c0a67-2deb-40da-97a4-2124f301f21c",
   "metadata": {},
   "source": [
    "__Remarks:__  \n",
    "\n",
    "* If you are familiar with `R` language you might think of using the assignment\n",
    "arrow `<-` instead of `=`, however, in `Python` this is not a proper syntax.\n",
    "\n",
    "    + `Python` is case sensitive, so if you name your variable `cat` but then try to\n",
    "    run the code `Cat + 2`, you will get an error saying that `Cat` does not exist.\n",
    "    + You also want your object's name to be explanatory, but not too long. \n",
    "    Think `current_temperature` verses `current_temp`. Do you really want to \n",
    "    type out temperature every time?  \n",
    "    + Finally, you should not begin any object's name with a number. You can end a \n",
    "    name with a number (e.g. clean_data2), but does that give you much \n",
    "    information about what is in the contents of `clean_data2` relative to \n",
    "    `clean_data`?   \n",
    "    + The name cannot contain any punctuation symbols, except for `_` \n",
    "    (`.` is not recommended)  \n",
    "    + You should not name your object the same as any common functions you may \n",
    "    use (`mean`, `stdev,` etc.) although Pythons module.attribute function access\n",
    "    should prevent most overwritting issues.\n",
    "      \n",
    "* Using a consistent coding style makes your code clearer to read for your \n",
    "future self and your collaborators. \n",
    "\n",
    "### Clean Code \n",
    "\n",
    "Yes, writing code may be completely new to you, but there is a difference between\n",
    "code that looks nice and code that does not. Generally, object names should be \n",
    "nouns and function names should be verbs. It is also important that your code \n",
    "looks presentable, so that a friend/college/professor can read it and understand\n",
    "what you are doing. For these reasons, there are style guides for writing code \n",
    "in `Python`. The two main style guides are Google's \n",
    "\\href{https://google.github.io/styleguide/pyguide.html}{(link)} and PEP 8, the \n",
    "official Python style guide, maintained by the Python Software Foundation: \n",
    "\\href{https://peps.python.org/pep-0008/}{(link)} \n",
    "\n",
    "### Working with Objects \n",
    "\n",
    "When you assign a value to an object (like we did previously) `Python` does not\n",
    "output anything by default. If you want to see the output you can use the command \n",
    "`print(value)`, then `Python` will output the value of the object you created."
   ]
  },
  {
   "cell_type": "code",
   "execution_count": null,
   "id": "101a6065-5df7-4e2a-988d-3d01565ec2cf",
   "metadata": {},
   "outputs": [],
   "source": [
    "x = 6"
   ]
  },
  {
   "cell_type": "code",
   "execution_count": null,
   "id": "112ebc69-f195-4ae7-b242-dff02b214606",
   "metadata": {},
   "outputs": [],
   "source": [
    "w = 9\n",
    "print(w)"
   ]
  },
  {
   "cell_type": "markdown",
   "id": "15bd0702-0fb6-4f9d-8871-326ed28cda0a",
   "metadata": {},
   "source": [
    "Once the object has been created, you can use it! Run the following lines of code:"
   ]
  },
  {
   "cell_type": "code",
   "execution_count": null,
   "id": "9d02f91c-1282-4a7f-8c9d-7d0775096246",
   "metadata": {},
   "outputs": [],
   "source": [
    "2.2 * x\n",
    "\n",
    "4 + x"
   ]
  },
  {
   "cell_type": "markdown",
   "id": "47593de9-37b9-44c6-a338-52647a6507c3",
   "metadata": {},
   "source": [
    "We can also overwrite an object's value, so that it has a new value. In the code\n",
    "below create a new object `y` and then we give `x` a new value of 2. "
   ]
  },
  {
   "cell_type": "code",
   "execution_count": null,
   "id": "932fe8e4-6f77-469d-8af9-0f67bb425c38",
   "metadata": {},
   "outputs": [],
   "source": [
    "y = x + 6\n",
    "\n",
    "x = 2"
   ]
  },
  {
   "cell_type": "markdown",
   "id": "d832934d-b465-4c73-8946-3921f85c33f2",
   "metadata": {},
   "source": [
    "**Exercise 1:** What is the current value of `y`? 12 or 8?"
   ]
  },
  {
   "cell_type": "code",
   "execution_count": null,
   "id": "2f0722e4-b3d6-4e07-bf19-ce7b8f2deeec",
   "metadata": {},
   "outputs": [],
   "source": [
    "y"
   ]
  },
  {
   "cell_type": "markdown",
   "id": "68501388-fef7-42cc-80c6-9d8e80fe7264",
   "metadata": {},
   "source": [
    "## Working with Different Data Types \n",
    "\n",
    "A vector in `Python`, formally a `list` or a `NumPy` array is the basic data type \n",
    "in `Python`. A vector is a series of values, which can be either numbers or characters, \n",
    "but every entry of the vector must be the same data type. `Python` can tell that\n",
    "you are building a vector when you use the squared brackets separating each element \n",
    "with a comma `[a,b,...,c]`, `list()` or `numpy.array([])` functions, which concatenates \n",
    "a series of entries together. \n",
    "\n",
    "Install the `Numpy` module in `Python` command window using the syntax `!pip install`\n",
    "(this may take a few moments):"
   ]
  },
  {
   "cell_type": "raw",
   "id": "82777f78-7c70-4b5e-9bf6-8510c3a6a0ea",
   "metadata": {},
   "source": [
    "!pip install numpy"
   ]
  },
  {
   "cell_type": "markdown",
   "id": "9be48069-c5f5-48bc-905b-830754575966",
   "metadata": {},
   "source": [
    "__Remarks:__\n",
    "*When you include `!` at the beginning of a command in a `Python` script, `Notebook`\n",
    "will treat it as a shell command rather than a Python command.\n",
    "\n",
    "*  A shell command is a command that is executed in a command-line interface \n",
    "    (CLI) or shell, which is a text-based user interface for interacting with an\n",
    "    operating system or software application.\n",
    "*  In a shell environment, you can type commands and execute them by pressing \n",
    "    the Enter key.\n",
    "*  The shell interprets the command and executes it, displaying the output\n",
    "    in the console or terminal window.\n"
   ]
  },
  {
   "cell_type": "code",
   "execution_count": null,
   "id": "e19c05e4-1fd1-49a7-a379-76e6c1179b4d",
   "metadata": {},
   "outputs": [],
   "source": [
    "import numpy as np\n",
    "\n",
    "temps_list = [50, 55, 60, 65]\n",
    "temps_list\n",
    "\n",
    "temps_numpy = np.array([50, 55, 60, 65])\n",
    "print(temps_numpy)"
   ]
  },
  {
   "cell_type": "markdown",
   "id": "83d50c23-8441-4b06-b691-14138d337840",
   "metadata": {},
   "source": [
    "To make a vector of characters, you are required to use quotation marks `\" \"` to \n",
    "indicate to `Python` that the value you are using is not an object you already \n",
    "created in `Python`."
   ]
  },
  {
   "cell_type": "code",
   "execution_count": null,
   "id": "fc070479-a1c5-4a46-be26-e7c04faa9605",
   "metadata": {},
   "outputs": [],
   "source": [
    "animals_list = [\"cat\", \"dog\", \"bird\", \"fish\"]\n",
    "animals_list\n",
    "\n",
    "animals_numpy = np.array([\"cat\", \"dog\", \"bird\", \"fish\"])\n",
    "print(animals_numpy)"
   ]
  },
  {
   "cell_type": "markdown",
   "id": "f203f4d5-da5f-401e-a04c-9b90a65c489a",
   "metadata": {},
   "source": [
    "Important features of a vector is the type of data they store. Run the following\n",
    "lines of code and decide what type of data the vectors contain. "
   ]
  },
  {
   "cell_type": "code",
   "execution_count": null,
   "id": "57533eda-d8cf-4bb0-a3fa-f2a2f0c1da97",
   "metadata": {},
   "outputs": [],
   "source": [
    "type(temps_list)\n",
    "\n",
    "type(temps_numpy)"
   ]
  },
  {
   "cell_type": "markdown",
   "id": "a8e76546-ac26-45ee-a6b7-e18d298d2c49",
   "metadata": {},
   "source": [
    "__Remarks:__\n",
    "\n",
    "* `numpy.ndarray` is a `Python` class  that represents an n-dimensional array or a \n",
    "multi-dimensional array. An array is a data structure that stores a collection \n",
    "of values of the same type.\n",
    "\n",
    "* `list` is a `Python` class type that represents a list data structure in Python. \n",
    "A list is an ordered collection of objects or values, enclosed in square brackets \n",
    "and separated by commas. A list can contain objects of different data types, \n",
    "such as integers, floats, strings, or even other lists.\n",
    "\n",
    "\n",
    "**Exercise 2:** Create a vector, named `dec`, that contains decimal valued numbers. Then check\n",
    "what data type that vector contains?"
   ]
  },
  {
   "cell_type": "code",
   "execution_count": null,
   "id": "d91fe3ee-9e9a-43b9-9606-684dd063e082",
   "metadata": {},
   "outputs": [],
   "source": [
    "dec = np.array([1.2, 3.4, 5.6, math.pi])\n",
    "type(dec)"
   ]
  },
  {
   "cell_type": "markdown",
   "id": "6ad0d3ef-a551-46eb-94bd-82c5cbf92427",
   "metadata": {},
   "source": [
    "Another possible data type are dictionaries. In `Python`, a dictionary is an \n",
    "unordered collection of key-value pairs. It is represented by a pair of curly braces \n",
    "`{}`, with each key-value pair separated by a colon `:`. _Also known as associative_ \n",
    "_arrays, maps, or hash tables in other programming languages_. \n"
   ]
  },
  {
   "cell_type": "code",
   "execution_count": null,
   "id": "4f70c896-525c-460e-87e5-8f3f43cb8c20",
   "metadata": {},
   "outputs": [],
   "source": [
    "translate = {'Hello':'Hola', 'How are you?':'Como estas?', 'Strawberry':'Fresa'}\n",
    "translate['Strawberry']"
   ]
  },
  {
   "cell_type": "markdown",
   "id": "62d6a217-cc0d-4cd3-836e-01007f5e8a58",
   "metadata": {},
   "source": [
    "So in `Python`, vectors (lists, numpy arrays) and dictionaries are data \n",
    "structures that allow you to store collections of values, but they have some key \n",
    "differences:\n",
    "\n",
    "1. Vectors are ordered while Dictionaries are not.\n",
    "\n",
    "2. Vectors are indexed by integer positions while Dictionaries are indexed by keys.\n",
    "\n",
    "3. All elements in a vector are of the same type, while in Dictionaries this need\n",
    "    not be the case.\n",
    "    \n",
    "4. You can \"mutate\" (change) the values contained in a vector or dictionary, BUT \n",
    "    you cannot change the keys in a dictionary once they are assigned, i.e., they\n",
    "    are \"immutable\"."
   ]
  },
  {
   "cell_type": "code",
   "execution_count": null,
   "id": "ab65e7c1-0da2-4b05-a63e-77868202f5a1",
   "metadata": {},
   "outputs": [],
   "source": [
    "# Creating a vector\n",
    "vec = [1, 2, 3, 4]\n",
    "\n",
    "# Accessing values in a vector by index\n",
    "print(vec[0])  # Output: 1\n",
    "\n",
    "\n",
    "# Modifying a value in a vector\n",
    "vec[0] = 5\n",
    "print(vec[0])\n",
    "\n",
    "# Creating a dictionary\n",
    "translate = {'Hello':'Hola', 'How are you?':'Como estas?', 'Strawberry':'Fresa'}\n",
    "\n",
    "# Accessing values in a dictionary by key\n",
    "print(translate['How are you?'])  # Output: 3\n",
    "\n",
    "# Adding a new key-value pair to a dictionary\n",
    "translate['I like cheese'] = 'Me gusta el queso'\n",
    "print(translate['I like cheese'])\n",
    "\n",
    "# Modifying a value in a dictionary\n",
    "translate['Hello'] = 'Adios'\n",
    "print(translate['Hello'])\n",
    "\n",
    "print(translate)"
   ]
  },
  {
   "cell_type": "markdown",
   "id": "30ec5db4-5d11-41ad-a16f-2776503c5906",
   "metadata": {},
   "source": [
    "Another possible data type is a logical (Boolean) value. This type of data  \n",
    "takes on values of `True` and `False` (*WARNING* `Python` is case sensitive so\n",
    "`TRUE`, `FALSE` won't work). But, we said that vectors could only be \n",
    "numbers or characters. If `TRUE` and `FALSE` don't have quotations around them,\n",
    "then they aren't characters. So, then they must be numbers. What numbers do you \n",
    "think they are?  "
   ]
  },
  {
   "cell_type": "code",
   "execution_count": null,
   "id": "6ec0794a-5ff2-40aa-b1b6-7add6df90010",
   "metadata": {},
   "outputs": [],
   "source": [
    "logic = [True, False, False, True]\n",
    "\n",
    "type(logic)\n",
    "logic"
   ]
  },
  {
   "cell_type": "markdown",
   "id": "f3442a79-47d7-4dd4-bfa6-b32aee7c4475",
   "metadata": {},
   "source": [
    "Notice that the `type()` command is telling us what we already know, it's a list! \n",
    "But is we are interested in knowing the type of each element in a list one can \n",
    "perform a for loop, but if we know that all elements of a list are of the same type\n",
    "then we can just look at the type of any element in that list:"
   ]
  },
  {
   "cell_type": "code",
   "execution_count": null,
   "id": "c81e2473-c84d-47a7-993a-16233fbbb634",
   "metadata": {},
   "outputs": [],
   "source": [
    "type(logic[0])"
   ]
  },
  {
   "cell_type": "code",
   "execution_count": null,
   "id": "d1920a59-5a44-489e-9f5d-a134d3a30be1",
   "metadata": {},
   "outputs": [],
   "source": [
    "diff_types = [False, \"Space\", 2]\n",
    "for i in diff_types:\n",
    "  print(type(i))\n",
    "\n",
    "type(diff_types)"
   ]
  },
  {
   "cell_type": "markdown",
   "id": "c1b5df46-57b3-4f45-9f3a-3d4b2eee108f",
   "metadata": {},
   "source": [
    "Another instance of a data type in `Python` is called a *tuple* which is \n",
    "an ordered, immutable collection of elements. Like lists, tuples can \n",
    "contain elements of different data types, including numbers, strings, and other \n",
    "objects. However, unlike lists, *tuples cannot be modified once they are created*.\n",
    "This means that you cannot add, remove, or modify elements in a tuple after it has\n",
    "been defined. *Tuples are defined using parentheses*, and elements are separated \n",
    "by commas:"
   ]
  },
  {
   "cell_type": "code",
   "execution_count": null,
   "id": "7ad8de45-de47-4ed2-99cd-4fcc5bda2a78",
   "metadata": {},
   "outputs": [],
   "source": [
    "tuple_ex = (1, 'apple', True)"
   ]
  },
  {
   "cell_type": "markdown",
   "id": "122c5344-6a5d-42f0-be30-61f41b85cd81",
   "metadata": {},
   "source": [
    "What do you think the output of the following code will be?"
   ]
  },
  {
   "cell_type": "code",
   "execution_count": null,
   "id": "994ffd14-d7f4-48cf-b7dd-f1d0ffd97391",
   "metadata": {},
   "outputs": [],
   "source": [
    "tuple_ex[0] = 4"
   ]
  },
  {
   "cell_type": "markdown",
   "id": "b793fc8f-8ead-4d6d-9464-47ca87ea7164",
   "metadata": {},
   "source": [
    "**Exercise 3:** What happens when we try to mix different data types into one \n",
    "vector? Speculate what will happen when we run each of the following lines of code:"
   ]
  },
  {
   "cell_type": "code",
   "execution_count": null,
   "id": "90ce2053-9d51-4466-add0-ed78dc0f7408",
   "metadata": {},
   "outputs": [],
   "source": [
    "num_char = [1, 2, 3, \"a\"]\n",
    "\n",
    "for i in num_char:\n",
    "  print(type(i))\n",
    "\n",
    "num_logic = [1, 2, 3, False]\n",
    "\n",
    "type(num_logic)\n",
    "for i in num_logic:\n",
    "  print(type(i))\n",
    "\n",
    "char_logic = [\"a\", \"b\", \"c\", True]\n",
    "\n",
    "guess = [1, 2, 3, \"4\"]"
   ]
  },
  {
   "cell_type": "markdown",
   "id": "98177971-b017-4cb8-b231-caebbab0d8be",
   "metadata": {},
   "source": [
    "In each of these vectors, the two types of data were *coerced* into a single \n",
    "data type. This happens in a hierarchy, where some data types get preference \n",
    "over others. Can we draw a diagram of the hierarchy?  \n",
    "\n",
    "__Remarks:__\n",
    "\n",
    "*  In `Python` an `R` list is equivalent to a dictionary.\n",
    "*  In `R` a `Python` list is equivalent to vector.\n",
    "\n",
    "What about a list of lists in `Python'?"
   ]
  },
  {
   "cell_type": "code",
   "execution_count": null,
   "id": "9b857eab-2b6e-42e3-9dc4-18d8d0e76ae1",
   "metadata": {},
   "outputs": [],
   "source": [
    "OS = [\"Mac\", \"Windows\", \"Linux\"]\n",
    "fav_nums = [12, 13, 17]\n",
    "logic = [True, False, False]\n",
    "\n",
    "layered_list = [OS, fav_nums, logic]\n",
    "layered_list[1]\n",
    "\n",
    "layered_list[0][1]\n",
    "print(layered_list[0][1])"
   ]
  },
  {
   "cell_type": "markdown",
   "id": "235633d8-a137-4593-94ef-83f3493c65ef",
   "metadata": {},
   "source": [
    "So to access the elements of list within a list we use the syntax `list[list_i][element]`.\n",
    "\n",
    "__Remarks:__\n",
    "\n",
    "* We have been outputting values with `print()` and by just running the name of \n",
    "the variable, why can we do this?\n",
    "\n",
    "    + When running code in a Jupyter notebook or in an interactive Python shell \n",
    "    (such as `RStudio`), you can simply type the name of a variable or expression \n",
    "    to see its value printed. This is because the notebook automatically displays \n",
    "    the output of any expression that is executed without explicitly requiring \n",
    "    the use of `print()`.\n",
    "    \n",
    "    + When running a Python script from the command line or in an IDE, you must\n",
    "    use print() to display output. If you don't use `print()`, the output will \n",
    "    not be displayed.\n",
    "\n",
    "### Named Lists\n",
    "\n",
    "To create a named list in `Python`, you can use a dictionary:"
   ]
  },
  {
   "cell_type": "code",
   "execution_count": null,
   "id": "4e5e8946-dcd0-4a02-9a89-e3aa233bc171",
   "metadata": {},
   "outputs": [],
   "source": [
    "my_named_list = {'title': 'statistics', 'numbers': list(range(1, 11)), \n",
    "'data': True}\n",
    "print(my_named_list)"
   ]
  },
  {
   "cell_type": "markdown",
   "id": "63a72925-bbb2-4d6b-897a-ba6b88923ff3",
   "metadata": {},
   "source": [
    "## Importing Data  \n",
    "\n",
    "Recall the module `pandas` mentioned earlier? `pandas` is a popular `Python` \n",
    "library used for data manipulation and analysis. It provides data structures \n",
    "for efficiently storing and manipulating large, structured data sets and \n",
    "includes functions for data cleaning, merging, filtering, and appending.\n",
    "\n",
    "If you haven't already, import the `pandas` module as `pd`, and if you are working\n",
    "in a folder that contained all of the files we sent you (extracted from the zip file)\n",
    "then you should be able to run the following code:"
   ]
  },
  {
   "cell_type": "code",
   "execution_count": null,
   "id": "9404e4e1-de80-4215-8eb8-dd15c31e0f2b",
   "metadata": {},
   "outputs": [],
   "source": [
    "import pandas as pd\n",
    "BlackfootFish = pd.read_csv('BlackfootFish.csv')"
   ]
  },
  {
   "cell_type": "markdown",
   "id": "cd5103fe-71f3-4a57-9e3c-df39d1bceb39",
   "metadata": {},
   "source": [
    "The path provided can also be simplified to just include the file name - if the \n",
    ".Rmd and data are saved in the same folder. If you have any trouble reading in the\n",
    "data set, here is code that allows you to read the data from our github repository:"
   ]
  },
  {
   "cell_type": "code",
   "execution_count": null,
   "id": "38486185-93a5-44c4-8b72-5ba6fd1dc9d9",
   "metadata": {},
   "outputs": [],
   "source": [
    "#BlackfootFish = pd.read_csv(\"https://github.com/saramannheimer/data-science-r\\\n",
    "#-workshops/raw/master/Introduction%20to%20R/AY%202020-2021/Student%20Version/\n",
    "#\\BlackfootFish.csv\")"
   ]
  },
  {
   "cell_type": "markdown",
   "id": "1f77b77b-1a07-47a0-9ac0-1c8d61eddad7",
   "metadata": {},
   "source": [
    "## Structure of Data  \n",
    "\n",
    "The data we will use is organized into data tables. When you imported the \n",
    "BlackfootFish data into `Python` it was saved as an object. You are able to inspect\n",
    "the structure of the BlackfootFish object using functions built in to `Python` \n",
    "(no packages necessary).  \n",
    "\n",
    "Run the following code. What is output from each of the following commands?"
   ]
  },
  {
   "cell_type": "code",
   "execution_count": null,
   "id": "69c25f8a-8339-4bc7-b709-4e74352abb81",
   "metadata": {},
   "outputs": [],
   "source": [
    "print(type(BlackfootFish)) # Class of the object\n",
    "\n",
    "print(BlackfootFish.shape) # Number of rows and columns\n",
    "\n",
    "print(BlackfootFish.columns) # Column names\n",
    "\n",
    "print(BlackfootFish.dtypes) # Data types of each column and the first few rows of data"
   ]
  },
  {
   "cell_type": "code",
   "execution_count": null,
   "id": "0f8d2fa2-2c48-4c0d-8404-4ff5c1487fe5",
   "metadata": {},
   "outputs": [],
   "source": [
    "BlackfootFish.describe()\n",
    "\n",
    "type(BlackfootFish)\n"
   ]
  },
  {
   "cell_type": "markdown",
   "id": "d3a9fc8f-b25c-4dd1-aaa2-b3085bb16075",
   "metadata": {},
   "source": [
    "When we inspect dataframes, or other objects in `Python`, there are some general \n",
    "functions that are useful to check the content/structure of the data. \n",
    "Here are some (assuming you are importing data using `pandas`):\n",
    "\n",
    "- size:\n",
    "    + `datasetname.shape` : rows and columns \n",
    "    + If your data set is a pandas dataframe `datasetname.shape[0]`: number of rows,\n",
    "    + If your data set is a pandas dataframe `datasetname.shape[1]`: number of columns.\n",
    "    + If your data set is a pandas dataframe and variable is a column in the\n",
    "    dataframe: `len(datasetname['variable'])`: number of columns.\n",
    "    \n",
    "- content:\n",
    "    + `datasetname.head()`: first 5 rows.\n",
    "    + `datasetname.tail()`: last 5 rows.\n",
    "    \n",
    "- names:\n",
    "    + `colnames(datasetname)`: column names.\n",
    "    + `datasetname.index`: row names.\n",
    "    \n",
    "- summary of content:\n",
    "    + `datasetname.info()`: structure of object and information about the columns.\n",
    "    + `datasetname.describe()`: summary statistics for each column.\n",
    "    \n",
    "## Dataframes \n",
    "\n",
    "What is a dataframe? A dataframe is a two-dimensional table-like data structure, \n",
    "similar to a spreadsheet. It is a primary data structure provided \n",
    "by the pandas library. You can create a dataframe in several ways, such as loading\n",
    "data from a CSV, Excel file, SQL database, or by constructing it from scratch using\n",
    "`Python` lists or dictionaries. A dataframe is made up of columns, where each column \n",
    "is a series object. Each column can have a different data type, but all the values \n",
    "in a column must have the same data type.\n",
    "\n",
    "\n",
    "## Extracting Data  \n",
    "\n",
    "In `Python`, you can access a specific column of a dataframe using square bracket\n",
    "notation `[]` with the column name inside the brackets. \n",
    "What do you think the following code will output?"
   ]
  },
  {
   "cell_type": "code",
   "execution_count": null,
   "id": "1aad3d94-2336-4c02-9b91-3c14ba744042",
   "metadata": {},
   "outputs": [],
   "source": [
    "df = pd.read_csv('BlackfootFish.csv')\n",
    "\n",
    "# Access the 'weight' column\n",
    "weight_col = df['weight']\n",
    "\n",
    "print(weight_col)"
   ]
  },
  {
   "cell_type": "code",
   "execution_count": null,
   "id": "ceb9fa20-c54e-4932-b769-ce23abfecb1f",
   "metadata": {},
   "outputs": [],
   "source": [
    "years = BlackfootFish['year']\n",
    "# extracts year from the dataset and saves it into a new variable named years\n",
    "years.head()\n",
    "\n",
    "years_str = str(years)\n",
    "print(years_str)\n",
    "n = len(years)\n",
    "print(n)\n",
    "## How would you determine how long the vector is?"
   ]
  },
  {
   "cell_type": "markdown",
   "id": "37856ee2-c862-48c2-943e-0d802dbf17fe",
   "metadata": {},
   "source": [
    "Another method for accessing data in the dataset is using the `pandas` function\n",
    "`iloc[]`. You can (roughly) view the dataset as a matrix of entries, with variable names \n",
    "for each of the columns. I could instead use `iloc` function to perform the same task as\n",
    "above, using the following code,"
   ]
  },
  {
   "cell_type": "code",
   "execution_count": null,
   "id": "5ae1e90c-f286-4ff0-b217-e8df135d5fcd",
   "metadata": {},
   "outputs": [],
   "source": [
    "# Extract the values in the fifth column and store them in a variable called \"years\"\n",
    "years = BlackfootFish.iloc[:, 4].values\n",
    "str(years)"
   ]
  },
  {
   "cell_type": "markdown",
   "id": "e5b0cc8c-df28-4af0-9276-f1265d4d6dd0",
   "metadata": {},
   "source": [
    "### Practice:\n",
    "\n",
    "The following is a preview of the dataframe `df`: "
   ]
  },
  {
   "cell_type": "code",
   "execution_count": null,
   "id": "65c41db7-3757-4727-abb3-1ec65cec55e3",
   "metadata": {},
   "outputs": [],
   "source": [
    "df = pd.DataFrame({\n",
    "  'x': [\"H\", \"N\", \"T\", \"W\", \"V\"],\n",
    "  'y': [\"May\", \"Oct\", \"Mar\", \"Aug\", \"Feb\"],\n",
    "  'z': [2010, 2015, 2018, 2017, 2019]\n",
    "})\n",
    "\n",
    "df"
   ]
  },
  {
   "cell_type": "markdown",
   "id": "3fe275a1-b35d-4123-b9c4-4f09f5eaa37e",
   "metadata": {},
   "source": [
    "**Exercise 4:** What would be output if you entered: `df.iloc[2, :]`? "
   ]
  },
  {
   "cell_type": "code",
   "execution_count": null,
   "id": "0015e1ea-1eed-4e9b-b11d-64897f416ee7",
   "metadata": {},
   "outputs": [],
   "source": [
    "df.iloc[2, :]"
   ]
  },
  {
   "cell_type": "markdown",
   "id": "587d6978-ec78-4b97-96cc-feeb3042b161",
   "metadata": {},
   "source": [
    "**Exercise 5:** What would you input to get an output of `2015`? Can you \n",
    "think of two ways to do it?"
   ]
  },
  {
   "cell_type": "code",
   "execution_count": null,
   "id": "f815a87e-239a-4ce1-a12a-34296d17c940",
   "metadata": {},
   "outputs": [],
   "source": [
    "df.iloc[1,2]\n",
    "df.loc[df['y']=='Oct', 'z']\n",
    "df.loc[1, 'z']"
   ]
  },
  {
   "cell_type": "markdown",
   "id": "44d7e9a0-ba19-4d95-85c0-f9fb0a5bbea3",
   "metadata": {},
   "source": [
    "__Remarks:__\n",
    "\n",
    "* Notice the difference between `loc` and `iloc`. Both are indexing methods in `pandas`\n",
    "that allow for selection of data from a data frame, how do they differ?\n",
    "\n",
    "    + `iloc` selects data based on the integer index of the rows and columns, with\n",
    "    syntax `df.iloc[row_index, column_index]`.\n",
    "    + `loc` selects data base on the row and column labels, with syntax\n",
    "    `df.loc[row_label, colum_label]`.\n",
    "    + *WARNING* `iloc` is exclusive of the end index, `loc` is inclusive.\n",
    "    + `iloc` does not support Boolean indexing, `loc` does.\n",
    "\n",
    "### Accessing Data\n",
    "\n",
    "When we have a data frame or a list of objects, we can extract specific items by \n",
    "specifying their position in the data frame or list. We saw how to do this with \n",
    "a single item, row, or column that we want to extract (`df.iloc[1, 5]`, \n",
    "`df.iloc[3,]` or `df.iloc[, 5]`). We can specify two items, rows, or columns by \n",
    "either using the fact that the two things we want are adjacent, or we can \n",
    "combine what we want into a list that we can then use for extracting. We will \n",
    "continue to use the indices to specify what we want to extract.\n",
    "\n",
    "Python uses zero-based indexing, which means you have to shift your start and\n",
    "stop indices, they might not be exactly as you would intuitively expect. The \n",
    "images below came from datacarpentry.org \n",
    "(https://datacarpentry.org/python-ecology-lesson/03-index-slice-subset.html).\n",
    "\n",
    "![Python List Indexing for a Single Element](slicing-indexing.png)"
   ]
  },
  {
   "cell_type": "markdown",
   "id": "b7645a85-4a00-48c4-aa95-de16533fec61",
   "metadata": {},
   "source": [
    "![Python List Indexing for a Range of Elements](slicing-slicing.png)\n",
    "\n",
    "For example, `[0]` or `0:1` could identify the first object in a list, and\n",
    "`[0, 1]` could identify the first two objects in a list. However \n",
    "they are adjacent so we could use `a:b+1` to indicate that we want everything from \n",
    "position `a` to position `b` in the list. So, `[1,3]` would give the same items \n",
    "as `1:3`.\n",
    "\n",
    "### Quick Check\n",
    "\n",
    "Run the following code to see what you get. Play around with the first and last numbers to see what happens."
   ]
  },
  {
   "cell_type": "code",
   "execution_count": null,
   "id": "9f2f050d-6430-4d35-b279-8b81aa6861fe",
   "metadata": {},
   "outputs": [],
   "source": [
    "list([1,2,3,4,5])\n",
    "list(range(1,6))\n",
    "list(range(6,1,-1))\n",
    "list(range(123,131))\n",
    "list(range(3,-1,-1))\n",
    "\n",
    "list([1,2,3,4,5])[1:3]\n",
    "list(range(123,131))[3:6]\n",
    "list(range(6,1,-1))[2:4]"
   ]
  },
  {
   "cell_type": "markdown",
   "id": "556c23df-3c34-4190-b4c5-0c172a6a7c3b",
   "metadata": {},
   "source": [
    "When you want adjacent items, using the `a:b` notation is nicer than having to type out all of the values.\n",
    "\n",
    "***What about non-adjacent items?***\n",
    "\n",
    "For non-adjacent items, you just need to fall back on listing everything out. Say you want the first, third, and 9th item in a list. Then you can use `[1, 3, 9]`.\n",
    "\n",
    "Now that we've talked about how to create lists of the indices we want, how do we use these lists to extract items?\n",
    "\n",
    "Using our data frame that we created above, to extract rows 1 and 2 we can use the notation `[1,2]` (or `1:3` since they are adjacent).\n"
   ]
  },
  {
   "cell_type": "code",
   "execution_count": null,
   "id": "d2ef3d07-bb75-46b5-bee1-4ca3cac318d7",
   "metadata": {},
   "outputs": [],
   "source": [
    "df.iloc[[1,2],]\n",
    "df.iloc[1:3, ]"
   ]
  },
  {
   "cell_type": "markdown",
   "id": "012a34fe-35c4-4dd4-b202-492c35657429",
   "metadata": {},
   "source": [
    "If we want to extract rows 1 and 3, we can use this list of indices: `[1, 3]`"
   ]
  },
  {
   "cell_type": "code",
   "execution_count": null,
   "id": "bec0f89c-673c-4659-ad3c-f7ba87ba74d8",
   "metadata": {},
   "outputs": [],
   "source": [
    "df.iloc[[1,3]]"
   ]
  },
  {
   "cell_type": "markdown",
   "id": "6c2f27ec-5bf9-4b0b-9ba4-be250bb893ab",
   "metadata": {},
   "source": [
    "***NOTE:*** Instead of using indices you can also do the same technique with names if the rows or columns are named.\n",
    "\n",
    "**Exercise 6:** How would you pull off only columns `x` and `y`? What about \n",
    "pulling off only columns `x` and `z`?"
   ]
  },
  {
   "cell_type": "code",
   "execution_count": null,
   "id": "4388e1c9-c193-466d-b36b-b8302d12b7c8",
   "metadata": {},
   "outputs": [],
   "source": [
    "df.iloc[:,[0,1]]\n",
    "df.iloc[:,[0,2]]\n",
    "df.loc[:, [\"x\", \"z\"]]"
   ]
  },
  {
   "cell_type": "markdown",
   "id": "733976f8-a58b-49a8-9029-c77666dc8299",
   "metadata": {},
   "source": [
    "**Exercise 7:** How would you modify the script below, to get an output \n",
    "of `22 24`? "
   ]
  },
  {
   "cell_type": "code",
   "execution_count": null,
   "id": "dd5a86bb-ff5a-4a00-a718-d937f02125b6",
   "metadata": {},
   "outputs": [],
   "source": [
    "s = [22, 24, 49, 18, 1, 6]\n",
    "s[0:2]"
   ]
  },
  {
   "cell_type": "markdown",
   "id": "65aa7f0a-3e72-4354-b4ab-d307c0291de4",
   "metadata": {},
   "source": [
    "**Exercise 8:** What would be output if you entered: `s[2, ]`? "
   ]
  },
  {
   "cell_type": "code",
   "execution_count": null,
   "id": "e49867da-6564-4527-b2fc-105bc0798ff0",
   "metadata": {},
   "outputs": [],
   "source": [
    "#s[2, ]"
   ]
  },
  {
   "cell_type": "markdown",
   "id": "78f407cf-36d9-408d-be44-3d95954af25f",
   "metadata": {},
   "source": [
    "## Changing Data Type  \n",
    "\n",
    "In `Python`, when building or importing a dataframe, character columns are usually\n",
    "represented as strings (i.e., text) by default. \n",
    "**Unlike in R, there is no factor data type in Python**.\n",
    "In `Python` you can use the `Pandas` library, which provides functions like `read_csv()`\n",
    "and `read_table()` to import data from CSV. `Pandas` does not convert string columns \n",
    "to any other data type, but it does infer the data type of each column.\n",
    "\n",
    "If you want to explicitly set the data type of a column or keep a string column \n",
    "as a string, you can use the dtype parameter in `read_csv()` to specify the data\n",
    "type for each column:\n"
   ]
  },
  {
   "cell_type": "code",
   "execution_count": null,
   "id": "e31dd299-687e-46ec-b92b-0c17684bff4e",
   "metadata": {},
   "outputs": [],
   "source": [
    "import pandas as pd\n",
    "df = pd.read_csv('BlackfootFish.csv', dtype = {'column':str})"
   ]
  },
  {
   "cell_type": "markdown",
   "id": "7d7aef70-0c73-47e7-b17d-ce6dc69e064d",
   "metadata": {},
   "source": [
    "__Remarks:__\n",
    "\n",
    "* If you are familiar with `R` note that there is no equivalent `stringAsFactors`\n",
    "argument in `read_csv()` from `pandas`.\n",
    "\n",
    "If you want to determine the unique elements in a column of a dataframe in `Python`,\n",
    "you can use the `unique()` method of `pandas`:"
   ]
  },
  {
   "cell_type": "code",
   "execution_count": null,
   "id": "ad78134f-d5fc-4796-a427-3efd216efd32",
   "metadata": {},
   "outputs": [],
   "source": [
    "BlackfootFish['species'].unique()\n",
    "\n",
    "BlackfootFish['species'].unique"
   ]
  },
  {
   "cell_type": "markdown",
   "id": "56d95b99-b46f-412c-b6ca-18a9c1001d55",
   "metadata": {},
   "source": [
    "What are the difference in outputs? Using `unique()` the output is an array of the\n",
    "unique values in the `species` column of BlackfootFish. If we leave out the \n",
    "parenthesis, i.e., `unique` the output will be the details of the dataframe, including\n",
    "data type, and its length, so no unique values. The key difference is that `unique()`\n",
    "is a **method** from the `pandas` library, that is, some sort of function. On other\n",
    "hand `unique` is an **attribute** (if it exists) of the object.\n",
    "\n",
    "**Exercise 9:**  Year was saved as an integer data type (1989 - 2006), but we \n",
    "may want to consider it to be a categorical variable (a factor). Write the `Python` \n",
    "code to create a new variable called `yearF` and then check the unique categories\n",
    "for this new variable."
   ]
  },
  {
   "cell_type": "code",
   "execution_count": null,
   "id": "4caa8f69-ea50-46ba-ae6b-1e545eca00e6",
   "metadata": {},
   "outputs": [],
   "source": [
    "BlackfootFish['yearF'] = pd.Categorical(BlackfootFish['year'])\n"
   ]
  },
  {
   "cell_type": "markdown",
   "id": "0bb95bc6-8de9-46fd-b8c0-142a30de5f19",
   "metadata": {},
   "source": [
    "**Exercise 10:** Now, verify that `yearF` is viewed as a categorical variable, \n",
    "with the same levels as `year`. (hint: you have already used functions \n",
    "that would do this for you) "
   ]
  },
  {
   "cell_type": "code",
   "execution_count": null,
   "id": "51e23518-c0af-4890-b601-7b2e5aef4933",
   "metadata": {},
   "outputs": [],
   "source": [
    "BlackfootFish['yearF'].unique()\n",
    "BlackfootFish['year'].unique()"
   ]
  },
  {
   "cell_type": "markdown",
   "id": "ec1bb61c-b722-47cc-95ef-e461c41b4216",
   "metadata": {},
   "source": [
    "## Packages  \n",
    "\n",
    "As we mentioned previously, `Python` has many packages (or modules), which people around the world\n",
    "work on to provide and maintain new software and new capabilities for `Python`. We \n",
    "have already shown some examples like `pandas`, `numpy`, and `math` and how to load \n",
    "them, we give a formal description now. You will slowly accumulate a number of packages\n",
    "that you use often for a variety of purposes. In order to use the elements \n",
    "(data, functions) of the packages, you have to first install the package \n",
    "(only once on a given computer) and then load the package (every time). \n",
    "\n",
    "You can install any `Python` library as illustrated with the following example:"
   ]
  },
  {
   "cell_type": "code",
   "execution_count": null,
   "id": "7337e198-0a25-40f9-a54c-1271733cf37d",
   "metadata": {},
   "outputs": [],
   "source": [
    "#Install statsmodels\n",
    "#!pip install scipy\n",
    "#!pip install numpy\n",
    "from scipy import stats as stats\n",
    "import numpy as np\n",
    "\n",
    "# generate random numbers from a normal distribution\n",
    "mu, sigma = 0, 1\n",
    "\n",
    "samples = stats.norm.rvs(loc=mu, scale=sigma, size=1000)\n",
    "\n",
    "# compute summary statistics\n",
    "mean = np.mean(samples)\n",
    "std = np.std(samples)\n",
    "mean, std\n",
    "print(f'The mean is {mean} and the standard deviation is {std}')"
   ]
  },
  {
   "cell_type": "markdown",
   "id": "2e40bd36-44c7-4977-bb61-e6f93236eb9d",
   "metadata": {},
   "source": [
    "Here we have installed the package/module `scipy.stats` which provides a wide\n",
    "range of probability distributions. The module includes functions for working with\n",
    "both continuous and discrete distributions. The general syntax is `stats.distribution`,\n",
    "in the above example `stats.norm.rvs(loc, scale, size)` generates a sample \n",
    "of size = n of random numbers from a normal distribution where `loc` (location) specifies\n",
    "the mean of the distribution, and `scale` specifies the standard deviation.\n",
    "\n",
    "Moreover, notice that we made use of the `numpy` module, as it contains functions\n",
    "such as `mean` and `std` that can be applied to Numpy arrays. Finally we print out\n",
    "the output.\n",
    "\n",
    "__Additional Comments:__ For printing the output we used a `Python` `f-string`\n",
    "which is used to print a sentence along with a calculated value of a variable, with\n",
    "syntax `print(f'The result is {variable}')`.\n",
    "\n",
    "## Finding Help \n",
    "\n",
    "`Python` has a great collection of packages and documentation, making it a popular \n",
    "choice for data science and scientific computing. Some of the most commonly used\n",
    "modules for statistical analysis, machine learning, data visualization, and much more\n",
    "are `NumPy`, `Pandas`, `SciPy`, `scikit-learn`, `Matplotlib`, among others.\n",
    "If you need a function to complete a task (say find the variance), but are not quite\n",
    "sure how it's spelled, what arguments it takes, or what package it lives in, don't fret!\n",
    "`Python` has a built-in `help()` function used to get information about `Python` \n",
    "functions, modules, and classes.  \n",
    "\n",
    "Another great resource for finding help is *Stack Overflow* Python's community,\n",
    "which is a good place to start as a beginner to learn and use `Python`."
   ]
  },
  {
   "cell_type": "code",
   "execution_count": null,
   "id": "9d09f44e-9f6e-41f2-a031-3a47c5273483",
   "metadata": {},
   "outputs": [],
   "source": [
    "#import scipy\n",
    "#help(scipy)"
   ]
  },
  {
   "cell_type": "markdown",
   "id": "5aeea083-456e-4cf6-a70b-f9feed6de797",
   "metadata": {},
   "source": [
    "## Functions  \n",
    "\n",
    "In `Python` there are both functions that are built in (require no package to be \n",
    "loaded), as well as functions that are housed within specific packages. You have\n",
    "already used a few built in functions to inspect the structure of the \n",
    "BlackfootFish data (`print`, `type`, `describe`). \n",
    "\n",
    "As you may know, a function \n",
    "transforms an input (potentially multiple) into an output. You have to provide\n",
    "`Python` with the inputs (arguments) required for the function to generate an output.\n",
    "The argument(s) inside a function happen after the `(` symbol. \n",
    "One way to identify that an \n",
    "object is a function when it is immediately followed by a  `(` and the \n",
    "corresponding closing `)` comes after the arguments are complete.\n",
    "The output of a function does not have to be numerical and it typically is \n",
    "not a single number, it can be a set of things or a dataset.   \n",
    "\n",
    "Suppose we wanted to create a vector of 10 zeros. To do this, we would use the \n",
    "`np.array` function:"
   ]
  },
  {
   "cell_type": "code",
   "execution_count": null,
   "id": "9aaccc3f-3d87-4433-ad66-1d49c65fa634",
   "metadata": {},
   "outputs": [],
   "source": [
    "import numpy as np\n",
    "# repeating 0 ten times\n",
    "np.array([0] * 10 )\n",
    "[0] * 10\n",
    "\n",
    "# switching order of arguments\n",
    "np.array(10 * [0])\n",
    "10 * [0]\n"
   ]
  },
  {
   "cell_type": "markdown",
   "id": "21529290-9ca1-44de-ba52-5da0d878060b",
   "metadata": {},
   "source": [
    "Now let's look over some other functions that are often used: "
   ]
  },
  {
   "cell_type": "code",
   "execution_count": null,
   "id": "b032ff20-4082-4f2b-9f54-4bb1b93fa3c8",
   "metadata": {},
   "outputs": [],
   "source": [
    "# takes a numerical input, but there are NA's in our data\n",
    "np.mean(BlackfootFish['weight'])\n",
    "\n",
    "# notice Python ignores NAs automatically.\n",
    "np.mean(BlackfootFish['weight'].dropna())\n",
    "\n",
    "# gives an error because the input is not the correct data type \n",
    "#np.median(BlackfootFish['species'])\n",
    "\n",
    "\n",
    "np.corrcoef(BlackfootFish['length'], BlackfootFish['weight'])\n",
    "\n",
    "# Does corrcoef have an option to remove NA's? No, np.corrcoef does not have an option\n",
    "# to remove NA's, you must deal with missing values before calling the function."
   ]
  },
  {
   "cell_type": "markdown",
   "id": "7a14ea2d-1883-4494-9b62-95fc5bdc4f7d",
   "metadata": {},
   "source": [
    "One way to remove the missing values and then compute the correlation coefficient is:"
   ]
  },
  {
   "cell_type": "code",
   "execution_count": null,
   "id": "fa13669a-6d87-4a09-a078-bb279a486cdf",
   "metadata": {},
   "outputs": [],
   "source": [
    "valid_mask = ~np.isnan(BlackfootFish['length']) & ~np.isnan(BlackfootFish['weight'])\n",
    "length_valid = BlackfootFish['length'][valid_mask]\n",
    "weight_valid = BlackfootFish['weight'][valid_mask]\n",
    "\n",
    "corr_coeff = np.corrcoef(length_valid, weight_valid)[0,1]\n",
    "\n",
    "print(f\"The correlation coefficient is: {corr_coeff}\")"
   ]
  },
  {
   "cell_type": "markdown",
   "id": "c534b5bb-5f29-4bc6-af93-ca7cfb97d985",
   "metadata": {},
   "source": [
    "Let's break it down line by line:\n",
    "\n",
    " - Line 1: `np.isnan()` finds the data points that have missing values in the data.\n",
    "            `~` is a logical operator that inverts/negates, so `~np.isnan()` will\n",
    "            return `True` for all data points with no NA's. Now this will create\n",
    "            a \"mask\" which is a logical (boolean) array. The symbol `&` will combine \n",
    "            the two masks into one.\n",
    " - Line 2 and 3: We use the index of `valid_mask` to create `length` and `weight` variables\n",
    "                 with no missing values.\n",
    " - Line 4: `np.corrcoef()` returns a correlation matrix where the (0,0) entry is the\n",
    "            correlation coefficient between the first array with itself. The entry (1,1)\n",
    "            is the correlation coefficient between the second array with itself.\n",
    "            The entries (0,1)=(1,0) are the correlation coefficient between both\n",
    "            arrays, hence the `[0,1]`.\n",
    " - Line 5: We then use an `f-string` to print the output in a nice way.\n",
    " \n",
    " As seen in the functions above, some functions have *optional* arguments. If \n",
    "they are not specified by the user, then they take on their default value \n",
    "(`True` for `dropna`). These options control the behavior of the functions, \n",
    "such as whether it includes/excludes NA values. \n",
    "         \n",
    "            \n",
    "## Cleaning Data  \n",
    "\n",
    "In many instances, you will deal with data that are not \"clean\". Based on the \n",
    "output we received from the `np.mean()` function, we know that there are NA's in \n",
    "the BlackfootFish data, possibly across a variety of variables. Before we used \n",
    "`dropna` as an option to remove NA's *within* a function. We can use the same \n",
    "command on the entire data frame before applying any functions to it. Based on the\n",
    "output below, how many rows in the BlackfootFish data have an NA present?  "
   ]
  },
  {
   "cell_type": "code",
   "execution_count": null,
   "id": "6cb9db38-29cb-4682-a97f-a97ad8526b3b",
   "metadata": {},
   "outputs": [],
   "source": [
    "BlackfootFish.shape # gives the dimensions of the dataset in (row, column) format  \n",
    "\n",
    "BlackfootFish.dropna().shape\n",
    "# .dropna() is method in Pandas which removes missing values (NaN)."
   ]
  },
  {
   "cell_type": "markdown",
   "id": "ab316ef1-aaa8-42fd-bb24-4ff04c303bf2",
   "metadata": {},
   "source": [
    "__Remark:__ The computer is using an algorithm to return a dataset with no NA \n",
    "values anywhere in it. This algorithm goes through every row of the dataset and\n",
    "(roughly) has the following steps, \n",
    "\n",
    "* Inspect each row or column to check for missing values (an alternative to \n",
    "  `dropna` is the `isnull` method).\n",
    "* If a row or column contains NaN's, it is dropped (removed) from the data frame.\n",
    "* Once it has stepped through every row, the function outputs the \"cleaned\" \n",
    "  dataframe\n",
    "  \n",
    "If we wish to remove all of the NA's from the dataset, we can use the \n",
    "`dropna` command from above. We can save the new \"clean\" dataset under a new name\n",
    "(creating a new object) or under the same name as before (replacing the old \n",
    "object with the new object)."
   ]
  },
  {
   "cell_type": "code",
   "execution_count": null,
   "id": "995bc93e-9633-45b5-97f8-53b333d7fe61",
   "metadata": {},
   "outputs": [],
   "source": [
    "BlackfootFish_clean = BlackfootFish.dropna()\n",
    "# Creates a new dataframe, where the NA's have all been removed "
   ]
  },
  {
   "cell_type": "markdown",
   "id": "bf09485c-87bd-4431-b472-4868ce63adea",
   "metadata": {},
   "source": [
    "## Data Visualization  \n",
    "\n",
    "There are many different genres of data graphics, with many different variations\n",
    "on each genre. Here are some commonly encountered kinds:  \n",
    "\n",
    "* __scatterplots__: showing relationships between two quantitative variables    \n",
    "* __distributions__: showing distributions of a single quantitative variable      \n",
    "* __bar charts__: displaying frequencies or densities of a single categorical \n",
    "  variable  \n",
    "\n",
    "***NOTE:***\n",
    "\n",
    "For plots, we do not want to display the output from all lines of code, just the final plot,\n",
    "so we'll change the parameter for how the output is displayed from a code chunk."
   ]
  },
  {
   "cell_type": "code",
   "execution_count": null,
   "id": "a9b48f40-498f-47a4-bc46-c365f5ba67e2",
   "metadata": {},
   "outputs": [],
   "source": [
    "from IPython.core.interactiveshell import InteractiveShell\n",
    "InteractiveShell.ast_node_interactivity = \"last\""
   ]
  },
  {
   "cell_type": "markdown",
   "id": "bb1d05dc-0f08-4ea7-a948-f9f2838a46ff",
   "metadata": {},
   "source": [
    "### Scatterplots\n",
    "\n",
    "The main purpose of the scatterplot is to show the relationship between two \n",
    "variables across several or many cases. Most often, there is a Cartesian \n",
    "coordinate system in which the x-axis represents one variable and the y-axis the\n",
    "second variable.  "
   ]
  },
  {
   "cell_type": "code",
   "execution_count": null,
   "id": "e16bcd64-267c-49e2-9826-bf289a60e603",
   "metadata": {},
   "outputs": [],
   "source": [
    "#!pip install matplotlib\n",
    "import matplotlib.pyplot as plt\n",
    "\n",
    "plt.scatter(BlackfootFish_clean['weight'], BlackfootFish_clean['length'])\n",
    "plt.show()\n"
   ]
  },
  {
   "cell_type": "code",
   "execution_count": null,
   "id": "4af51d25-64e8-4ad9-8389-56486f97ff61",
   "metadata": {},
   "outputs": [],
   "source": [
    "#import matplotlib.pyplot as plt\n",
    "fig, ax = plt.subplots() # creates a new figure and an axes object to plot data on\n",
    "ax.scatter(BlackfootFish_clean['weight'], BlackfootFish_clean['length'])\n",
    "ax.set_xlabel('Weight (gm)') # adding in axis labels\n",
    "ax.set_ylabel('Length (cm)')\n",
    "ax.tick_params(\"y\", labelrotation=90)\n",
    "ax.set_title('Plot of Length by Weight of ...') # adds a title                                                    \n",
    "plt.show()"
   ]
  },
  {
   "cell_type": "markdown",
   "id": "586fb064-745f-498d-9372-648ed781e109",
   "metadata": {},
   "source": [
    "Let's breakdown the following line `ax.tick_params(\"y\", labelrotation=90)`:\n",
    "\n",
    " - `ax` is for `Axes` which is an object in `Matplotlib`, representing, you guessed it,\n",
    "    the plot's axes.\n",
    " - `ax.tick_params()` is a method of `Axes` class, which set the parameters for the\n",
    "    \"ticks\" for either (or both) axes.\n",
    " - `\"y\"` indicates we want to set a paramter for the \"y\" axis only.\n",
    " - `labelrotation = 90` sets the rotation for the tick labels."
   ]
  },
  {
   "cell_type": "markdown",
   "id": "a549c228-7b23-4ddd-8be4-8f65cb254468",
   "metadata": {},
   "source": [
    "### Distribution\n",
    "\n",
    "A histogram shows how many observations fall into a given range of values of a \n",
    "variable and can be used to visualize the distribution of a single quantitative variable.\n",
    "\n",
    "By default, Matplotlib will use the current figure and axes to plot any new data, \n",
    "unless you explicitly create a new figure and axes object."
   ]
  },
  {
   "cell_type": "code",
   "execution_count": null,
   "id": "5a87af36-7717-4c74-9294-3912ace2caab",
   "metadata": {},
   "outputs": [],
   "source": [
    "fig, ax_hist = plt.subplots()\n",
    "ax_hist.hist(BlackfootFish_clean['length']);\n",
    "plt.show()"
   ]
  },
  {
   "cell_type": "code",
   "execution_count": null,
   "id": "c40e2d46-3f4b-47c7-af9c-d35a7f78ff76",
   "metadata": {},
   "outputs": [],
   "source": [
    "fig, ax_hist = plt.subplots()\n",
    "# converts to a density plot (area adds to 1)\n",
    "ax_hist.hist(BlackfootFish_clean['length'], density=True);\n",
    "# adds x-axis label \n",
    "ax_hist.set_xlabel('Length (cm)')\n",
    "ax_hist.set_ylabel('Density')\n",
    "# adds title to plot\n",
    "ax_hist.set_title('Distribution of Fish Lengths in Blackfoot River')\n",
    "plt.show()"
   ]
  },
  {
   "cell_type": "code",
   "execution_count": null,
   "id": "175527a4-605c-4bd9-b5f0-f8ff619fa157",
   "metadata": {},
   "outputs": [],
   "source": [
    "fig, ax_hist = plt.subplots()\n",
    "# converts to a density plot (area adds to 1)\n",
    "ax_hist.hist(BlackfootFish_clean['length'], density=True, edgecolor = 'black', \n",
    "bins = 20);\n",
    "# adds x-axis label \n",
    "ax_hist.set_xlabel('Length (cm)')\n",
    "ax_hist.set_ylabel('Frequency')\n",
    "# adds title to plot\n",
    "ax_hist.set_title('Fish Lengths in Blackfoot River')\n",
    "plt.show()"
   ]
  },
  {
   "cell_type": "markdown",
   "id": "a4aaa2a4-de8c-4b73-9959-927d0954fc7f",
   "metadata": {},
   "source": [
    "### Side-by-Side Boxplots  \n",
    "\n",
    "The familiar boxplot is a simple display to use when the objective is to compare the \n",
    "distribution of a quantitative variable across different levels of a categorical\n",
    "variable. "
   ]
  },
  {
   "cell_type": "code",
   "execution_count": null,
   "id": "1352aeb8-ec1a-40aa-bea2-39f01304b115",
   "metadata": {},
   "outputs": [],
   "source": [
    "# Create a list of weight data for each species\n",
    "weight_data = [BlackfootFish_clean[BlackfootFish_clean['species'] == s]['weight']\n",
    "for s in BlackfootFish_clean['species'].unique()];\n",
    "\n",
    "fig, ax_box = plt.subplots()\n",
    "ax_box.boxplot(weight_data);\n",
    "ax_box.set_xticklabels(BlackfootFish_clean['species'].unique(), rotation=45);\n",
    "ax_box.set_xlabel('Species')\n",
    "ax_box.set_ylabel('Weight (gm)')\n",
    "ax_box.set_title('Boxplot of Fish Weight by Species')\n",
    "plt.show()\n"
   ]
  },
  {
   "cell_type": "markdown",
   "id": "2cd501ed-7e42-4acc-a4f2-1b6a256c68de",
   "metadata": {},
   "source": [
    "Let us explore the line \n",
    "`[BlackfootFish_clean[BlackfootFish_clean['species'] == s]['weight'] for s in BlackfootFish_clean['species'].unique()];`: \n",
    "The code creates a list of weight data\n",
    "for each unique species in the following way:\n",
    "\n",
    "- `BlackfootFish_clean['species'] == s` selects the rows where the `species`\n",
    "  column matches a particular (s) unique species name.\n",
    "- `BlackfootFish_clean['species'].unique()` generates such s values.\n",
    "- `BlackfootFish_clean[...]['weight]` selects only the `weight` column. In particular\n",
    "   the weight data for each unique species s.\n",
    "\n",
    "### Bar Charts  \n",
    "\n",
    "Bar charts are an effective way to compare the frequencies of levels of a \n",
    "categorical variable. \n"
   ]
  },
  {
   "cell_type": "code",
   "execution_count": null,
   "id": "4bee85c0-4e89-427b-9e2d-a9762190b657",
   "metadata": {},
   "outputs": [],
   "source": [
    "section = BlackfootFish_clean['section'].value_counts()\n",
    "\n",
    "fig, ax_bar = plt.subplots()\n",
    "\n",
    "ax_bar.bar(section.index, section.values, color='blue')\n",
    "ax_bar.set_xlabel('Section')\n",
    "ax_bar.set_ylabel('Number of Fish')\n",
    "ax_bar.set_title('Fish Caught by Section')\n",
    "ax_bar.set_ylim([0, 12000])\n",
    "plt.show()"
   ]
  },
  {
   "cell_type": "markdown",
   "id": "3d322ec3-fed3-4515-9bbd-03cdb8d36f6b",
   "metadata": {},
   "source": [
    "### Practice  \n",
    "\n",
    "**Exercise 11:**  Using statistics or graphics, which year in our dataset had the \n",
    "most fish caught? "
   ]
  },
  {
   "cell_type": "code",
   "execution_count": null,
   "id": "0e688f37-43de-4ad9-b8cf-cb7754860175",
   "metadata": {},
   "outputs": [],
   "source": [
    "# Code for Exercise 11 goes here"
   ]
  },
  {
   "cell_type": "markdown",
   "id": "a09a10bd-a2e4-44c2-8785-de9fee79cf87",
   "metadata": {},
   "source": [
    "**Exercise 12:** Make a boxplot of the fish weights over the different years in \n",
    "the dataset.  "
   ]
  },
  {
   "cell_type": "code",
   "execution_count": null,
   "id": "06a1cf77-6c43-45c7-8427-74209d9e2317",
   "metadata": {},
   "outputs": [],
   "source": [
    "# Code for Exercise 12 goes here"
   ]
  },
  {
   "cell_type": "markdown",
   "id": "d5b6ba56-94df-452c-9147-00be8a2dc421",
   "metadata": {},
   "source": [
    "## Compiling\n",
    "\n",
    "Hopefully at this point you have fixed all the code errors in the file we \n",
    "initially provided as you learned about the `Python` code and functions. A final \n",
    "(and often intermediate step) is to compile your iPython Notebook file into an HTML\n",
    "or PDF document. The compiling process will verify that the code you wrote \n",
    "works in the order that it is present in the document and is your reproducible \n",
    "result to share with colleagues and collaborators. The .ipynb is your archive of \n",
    "the code used to produce those results from the data.\n",
    "\n",
    "The HTML format is the least nice for printing but also has the fewest dependencies \n",
    "on other software to compile. Compiling to PDF yields a printable document.\n",
    "\n",
    "You can quickly get an HTML view by **SAVING** first and then either pressing the \n",
    "\"fast forward\" button or by going to Kernel > Restart Kernel and Run All Cells...\n",
    "\n",
    "To get a PDF document, go to File > Save and Export Notebook As... > PDF.\n",
    "\n",
    "## Exiting Jupyter\n",
    "\n",
    "Finally, when you are done with your work and attempt to exit out of `Jupyter`, \n",
    "make sure to **SAVE** your notebook. Work is not automaically saved!\n",
    "\n",
    "## Terminology Used in Workshop\n",
    "\n",
    "* *Command*: A command is what `Python` executes. In an `Python` script file \n",
    "(script.py), \n",
    "commands are automatically implied, as this type of file does not accept text, \n",
    "only in comments. \n",
    "\n",
    "* *Comment*: Helpful text added into a script environment. Comments can be used\n",
    "to describe functions, processes, a train of thought, so that when you return to\n",
    "your code, tomorrow or next year, you are able to understand the purpose of each\n",
    "line of code! Comments are preceded by `#` within a code chunk. \n",
    "\n",
    "* *Object*: A variable created in `Python`, to be used elsewhere in the code. \n",
    "Objects can be a variety of things, such as scalars (`x = 3`), vectors \n",
    "(`x = c(1, 2, 3, 4, 5)`), matrices, and dataframes, to name a few.  \n",
    "\n",
    "* *Assignment*: The assignment `=` is used to assign values on the \n",
    "right to the objects on the left (`x = 1`). \n",
    "\n",
    "* *Type*: Most `Python` objects have a type attribute, a character vector giving \n",
    "the names of the types from which the object inherits. Examples of types are\n",
    "numeric, boolean, sequence types, DataFrame, tuple, list. \n",
    "\n",
    "* *Vector*: A vector is a list of entries, all sharing the same class. A vector \n",
    "has only one dimension, so data extraction uses only a single entry in brackets \n",
    "(e.g. `x[3]`). You can create vectors of characters (`[\"a\", \"b\", \"c\"]`), vectors of \n",
    "numbers (`[1, 2, 3]`), to name a few.\n",
    "\n",
    "* *Matrix*: Similar to what you may have seen in a mathematics class, a matrix in `Python` \n",
    "is a two-dimensional array of numbers, symbols, or expressions arranged in rows \n",
    "and columns. \n",
    "\n",
    "* *List*: A generic vector, which contains other objects. A list can contain a\n",
    "variety of different classes of objects, e.g., characters, vectors, data.frames, \n",
    "matrices, or outputs from a model! A dataframe is a special type of list where\n",
    "the components are vectors and they all have the same length. \n",
    "\n",
    "* *Dataframe*: In Python, a dataframe is a two-dimensional table-like data \n",
    "structure that is commonly used for data analysis and manipulation, where you \n",
    "are able to extract elements using bracket (`[]`) notation.\n",
    "\n",
    "* *Argument*: Input(s) into a function, so that an output is created. Most \n",
    "functions take named arguments (e.g., `data = BlackfootFish`) and the order of the \n",
    "arguments is assumed to follow the order found in the function's help file. When\n",
    "using a named argument in a function, the name comes first, followed by an `=` \n",
    "sign, then the input. \n",
    "\n",
    "* *Logical Value*: `True` and `False` value(s) that can be used to turn off/on \n",
    "options in functions and plots, and also to manipulate data.\n",
    "\n",
    "## Workshop Materials & Recordings Available:\n",
    "\n",
    "* email Sara Mannheimer (sara.mannheimer@montana.edu)\n",
    "\n",
    "* through the MSU Library Data Science website (http://www.montana.edu/datascience/)\n",
    "\n",
    "## How to Learn More About `Python`\n",
    "\n",
    "This material is intended to provide you with an introduction to using `Python` for \n",
    "scientific analyses of data. The best way for you to continue to learn more \n",
    "about `Python` is to use it in your research! This may sound daunting, but writing \n",
    "`Python` scripts is the best way to become familiar with the syntax. This will help \n",
    "you progress through more advanced operations, such as cleaning your data, \n",
    "using statistical methods, or creating graphics. \n",
    "\n",
    "The best place to start is playing around with the code from today's workshop.\n",
    "Change parts of the code and see what happens! Better yet, use the code from the\n",
    "workshop to investigate your own data! \n",
    "\n",
    "## Montana State University Data Science Workshops Team\n",
    "\n",
    "These materials were adapted from materials generated by the Data Carpentries \n",
    "(https://datacarpentry.org/) and were originally developed at MSU by Dr. Allison \n",
    "Theobold. The workshop series is co-organized by the Montana State University \n",
    "Library, Department of Mathematical Sciences, and Statistical Consulting and \n",
    "Research Services (SCRS, https://www.montana.edu/statisticalconsulting/). \n",
    "SCRS is supported by Montana INBRE (National Institutes of Health, Institute of \n",
    "General Medical Sciences Grant Number P20GM103474). The workshops for 2021-2022 \n",
    "are supported by Faculty Excellence Grants from MSU's Center for Faculty Excellence. \n",
    "\n",
    "Research related to the development of these workshops appeared in:\n",
    "\n",
    "* Allison S. Theobold, Stacey A. Hancock & Sara Mannheimer (2021) Designing Data \n",
    "Science Workshops for Data-Intensive Environmental Science Research, _Journal of \n",
    "Statistics and Data Science Education_, 29:sup1, S83-S94, \n",
    "DOI: 10.1080/10691898.2020.1854636\n",
    "\n",
    "The workshops for 2024-2025 involve modifications of materials and are licensed \n",
    "CC-BY.  \n",
    "\n",
    "![Creative Commons License](cclicense.png) \n",
    "\n",
    "This work is licensed under a \n",
    "[Creative Commons Attribution 4.0 International License](http://creativecommons.org/licenses/by/4.0/).\n",
    "\n",
    "The workshops for 2024-02025 are being taught by:\n",
    "\n",
    "### Ava Yazdian\n",
    "\n",
    "Ava Yazdian is a current sophomore studying conservation biology and ecology. She enjoys helping others learn the language of statistics and data analysis through her experience in her statistics coursework. Her interests include plant ecology, skiing, and ceramics.\n",
    "\n",
    "### Greta Linse\n",
    "\n",
    "Greta Linse is the Facility Manager of Social Data Collection and Analysis \n",
    "Services (https://www.montana.edu/socialdata/) among other on campus roles. \n",
    "Greta has been teaching, documenting and working with statistical software \n",
    "including R and RStudio for over 10 years.\n",
    "\n",
    "### Sally Slipher\n",
    "\n",
    "Sally Slipher is a research statistician for Social Data. She has taught statistics in the past and uses R extensively (and sometimes other coding languages) to explore data and put together analyses.\n",
    "\n",
    "### Sara Mannheimer\n",
    "\n",
    "Sara Mannheimer is an Associate Professor and Data Librarian at Montana State \n",
    "University, where she helps shape practices and theories for curation, \n",
    "publication, and preservation of data. Her research examines the social, ethical, \n",
    "and technical issues of a data-driven world. She is the project lead for the MSU \n",
    "Dataset Search and the Responsible AI in Libraries and Archives project. Her \n",
    "2024 book, Scaling Up, explores how data curation can address epistemological, \n",
    "ethical, and legal issues in qualitative data reuse and big social research.\n",
    "\n",
    "The materials have also been modified and improved by:\n",
    "\n",
    "* Devin Goodwin\n",
    "* Dr. Mark Greenwood\n",
    "* Harley Clifton\n",
    "* Eliot Liucci\n",
    "* Dr. Allison Theobold\n"
   ]
  }
 ],
 "metadata": {
  "kernelspec": {
   "display_name": "Python 3 (ipykernel)",
   "language": "python",
   "name": "python3"
  },
  "language_info": {
   "codemirror_mode": {
    "name": "ipython",
    "version": 3
   },
   "file_extension": ".py",
   "mimetype": "text/x-python",
   "name": "python",
   "nbconvert_exporter": "python",
   "pygments_lexer": "ipython3",
   "version": "3.11.7"
  }
 },
 "nbformat": 4,
 "nbformat_minor": 5
}
